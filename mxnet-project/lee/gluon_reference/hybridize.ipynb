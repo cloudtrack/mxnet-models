{
 "cells": [
  {
   "cell_type": "markdown",
   "metadata": {},
   "source": [
    "# Fast, portable neural networks with Gluon HybridBlocks\n",
    "\n",
    "\n",
    "The tutorials we saw so far adopt the *imperative*, or define-by-run, programming paradigm. \n",
    "It might not even occur to you to give a name to this style of programming \n",
    "because it's how we always write Python programs. \n",
    "\n",
    "Take for example a prototypical program written below in pseudo-Python.\n",
    "We grab some input arrays, we compute upon them to produce some intermediate values,\n",
    "and finally we produce the result that we actually care about.\n",
    "\n",
    "```\n",
    "def our_function(A, B, C, D):\n",
    "    # Compute some intermediate values\n",
    "    E = basic_function1(A, B)\n",
    "    F = basic_function2(C, D)\n",
    "    \n",
    "    # Finally, produce the thing you really care about\n",
    "    G = basic_function3(E, F)\n",
    "    return G\n",
    "    \n",
    "# Load up some data\n",
    "W = some_stuff()\n",
    "X = some_stuff()\n",
    "Y = some_stuff()\n",
    "Z = some_stuff()\n",
    "    \n",
    "result = our_function(W, X, Y, Z)\n",
    "```\n",
    "\n",
    "As you might expect when we compute `E`, we're actually performing some numerical operation, like multiplication, and returning an array that we assign to the variable `E`. Same for `F`. And if we want to do a similar computation many times by putting these lines in a function, each time our program *will have to step through these three lines of Python*. \n",
    "\n",
    "The advantage of this approach is it's so natural that it might not even occur to some people that there is another way. But the disadvantage is that it's slow. That's because we are constantly engaging the Python execution environment (which is slow) even though our entire function performs the same three low-level operations in the same sequence every time. It's also holding on to all the intermediate values `D` and `E` until the function returns even though we can see that they're not needed. We might have made this program more efficient by re-using memory from either `E` or `F` to store the result `G`. \n",
    "\n",
    "\n",
    "There actually is a different way to do things. It's called *symbolic* programming \n",
    "and most of the early deep learning libraries, including Theano and Tensorflow, \n",
    "embraced this approach exclusively. \n",
    "You might have also heard this approach referred to as *declarative* programming or *define-then-run* programming.\n",
    "These all mean the exact same thing.\n",
    "The approach consists of three basic steps:\n",
    "\n",
    "* Define a computation workflow, like a pass through a neural network, using placeholder data\n",
    "* Compile the program into a front-end language, e.g. Python, independent format\n",
    "* Invoke the compiled function, feeding it real data\n",
    "\n",
    "Revisiting our previous pseudo-Python example, a symbolic version of the same program might look something like this:\n",
    "```\n",
    "# Create some placeholders to stand in for real data that might be supplied to the compiled function.\n",
    "A = placeholder() \n",
    "B = placeholder()\n",
    "C = placeholder()\n",
    "D = placeholder()\n",
    "\n",
    "# Compute some intermediate values\n",
    "E = symbolic_function1(A, B)\n",
    "F = symbolic_function2(C, D)\n",
    "    \n",
    "# Finally, produce the thing you really care about\n",
    "G = symbolic_function3(E, F)\n",
    "    \n",
    "our_function = library.compile(inputs=[A, B, C, D], outputs=[G])   \n",
    "    \n",
    "# Load up some data\n",
    "W = some_stuff()\n",
    "X = some_stuff()\n",
    "Y = some_stuff()\n",
    "Z = some_stuff()\n",
    "    \n",
    "result = our_function(W, X, Y, Z)\n",
    "```\n",
    "\n",
    "Here, when we run the line ``E = symbolic_function1(A, B)``, *no numerical computation actually happens*.\n",
    "Instead, the symbolic library notes the way that `E` is related to `A` and `B` and records this information.\n",
    "We don't do actual computation, we just make *a roadmap* for how to go from inputs to outputs.\n",
    "Because we can draw all of the variables and operations (both inputs and intermediate values) a nodes, and the relationships between nodes with edges, we call the resulting roadmap a computational graph. \n",
    "In the symbolic approach, we first define the entire graph, and then compile it.\n",
    "\n",
    "\n",
    "### Imperative Programs Tend to be More Flexible\n",
    "\n",
    "When you’re using an imperative-style library from Python, you are writing in Python. Nearly anything that would be intuitive to write in Python, you could accelerate by calling down in the appropriate places to the imperative deep learning library. On the other hand, when you write a symbolic program, you may not have access to all the familiar Python constructs, like iteration. It's also easy to debug an imperative program. For one, because all the intermediate values hang around, it's easy to introspect the program later. Imperative programs are also much easier to debug because we can just stick print statements in between operations.\n",
    "\n",
    "In short, from a developer's standpoint, imperative programs are just better. \n",
    "They're a joy to work with.\n",
    "You don't have the tricky indirection of working with placeholders.\n",
    "You can do anything that you can do with native Python.\n",
    "And faster debugging, means you get to try out more ideas.\n",
    "But the catch is that imperative programs are *comparatively* slow.\n",
    "\n",
    "### Symbolic Programs Tend to be More Efficient\n",
    "\n",
    "The main reason is efficiency, both in terms of memory and speed. Let’s revisit our toy example from before. Consider the following program:\n",
    "\n",
    "```\n",
    "import numpy as np\n",
    "a = np.ones(10)\n",
    "b = np.ones(10) * 2\n",
    "c = b * a\n",
    "d = c + 1\n",
    "...\n",
    "```\n",
    "Assume that each cell in the array occupies 8 bytes of memory. How much memory do we need to execute this program in the Python console? As an imperative program we need to allocate memory at each line. That leaves us allocating 4 arrays of size 10. So we’ll need $4 * 10 * 8 = 320$ bytes. On the other hand, if we built a computation graph, and knew in advance that we only needed d, we could reuse the memory originally allocated for intermediate values. For example, by performing computations in-place, we might recycle the bits allocated for b to store c. And we might recycle the bits allocated for c to store d. In the end we could cut our memory requirement in half, requiring just $2 * 10 * 8$ = 160 bytes.\n",
    "\n",
    "Symbolic programs can also perform another kind of optimization, called operation folding. Returning to our toy example, the multiplication and addition operations can be folded into one operation. If the computation runs on a GPU processor, one GPU kernel will be executed, instead of two. In fact, this is one way we hand-craft operations in optimized libraries, such as CXXNet and Caffe. Operation folding improves computation efficiency. Note, you can’t perform operation folding in imperative programs, because the intermediate values might be referenced in the future. Operation folding is possible in symbolic programs because we get the entire computation graph in advance, before actually doing any calculation, giving us a clear specification of which values will be needed and which will not."
   ]
  },
  {
   "cell_type": "markdown",
   "metadata": {},
   "source": [
    "## Getting the best of both worlds with MXNet Gluon's HybridBlocks\n",
    "\n",
    "Most libraries deal with the imperative / symbolic design problem by simply choosing a side.\n",
    "Theano and those frameworks it inspired, like TensorFlow, run with the symbolic way.\n",
    "And because the first versions of MXNet optimized performance, they also went symbolic.\n",
    "Chainer and its descendants like PyTorch are fully imperative way.\n",
    "In designing MXNet Gluon, we asked the following question. \n",
    "Is it possible to get *all* of the benefits of imperative programming\n",
    "but to still exploit, whenever possible, the speed and memory efficiency of symbolic programming.\n",
    "In other words, a user should be able to use Gluon fully imperatively.\n",
    "And if they never want their lives to be more complicated then they can get on just fine imagining that the story ends there. \n",
    "But when a user needs production-level performance, it should be easy to compile the entire compute graph, \n",
    "or at least to compile large subsets of it. \n",
    "\n",
    "\n",
    "MXNet accomplishes this through the use of HybridBlocks. Each ``HybridBlock`` can run fully imperatively defining their computation with real functions acting on real inputs. But they're also capable of running symbolically, acting on placeholders. Gluon hides most of this under the hood so you'll only need to know how it works when you want to write your own layers. Given a HybridBlock whose forward computation consists of going through other HybridBlocks, you can compile that section of the network by calling the HybridBlocks ``.hybridize()`` method.\n",
    "\n",
    "**All of MXNet's predefined layers are HybridBlocks.** This means that any network consisting entirely of predefined MXNet layers can be compiled and run at much faster speeds by calling ``.hybridize()``.\n",
    "\n",
    "\n"
   ]
  },
  {
   "cell_type": "markdown",
   "metadata": {},
   "source": [
    "## HybridSequential\n",
    "\n",
    "We already learned how to use `Sequential` to stack the layers. \n",
    "The regular `Sequential` can be built from regular Blocks and so it too has to be a regular Block.\n",
    "However, when you want to build a network using sequential and run it at crazy speeds,\n",
    "you can construct your network  using `HybridSequential` instead. \n",
    "The functionality is the same `Sequential`:"
   ]
  },
  {
   "cell_type": "code",
   "execution_count": 1,
   "metadata": {
    "scrolled": true
   },
   "outputs": [
    {
     "name": "stdout",
     "output_type": "stream",
     "text": [
      "=== net(x) ===\n",
      "[[ 0.16526183 -0.14005636]]\n",
      "<NDArray 1x2 @cpu(0)>\n"
     ]
    }
   ],
   "source": [
    "import mxnet as mx\n",
    "from mxnet.gluon import nn\n",
    "from mxnet import nd\n",
    "\n",
    "def get_net():\n",
    "    # construct a MLP\n",
    "    net = nn.HybridSequential()\n",
    "    with net.name_scope():\n",
    "        net.add(nn.Dense(256, activation=\"relu\"))\n",
    "        net.add(nn.Dense(128, activation=\"relu\"))\n",
    "        net.add(nn.Dense(2))\n",
    "    # initialize the parameters\n",
    "    net.collect_params().initialize()\n",
    "    return net\n",
    "\n",
    "# forward\n",
    "x = nd.random_normal(shape=(1, 512))\n",
    "net = get_net()\n",
    "print('=== net(x) ==={}'.format(net(x)))"
   ]
  },
  {
   "cell_type": "markdown",
   "metadata": {},
   "source": [
    "To compile and optimize the `HybridSequential`, we can then call its `hybridize` method. Only `HybridBlock`s, e.g. `HybridSequential`, can be compiled. But you can still call `hybridize` on normal `Block` and its `HybridBlock` children will be compiled instead. We will talk more about ``HybridBlock``s later."
   ]
  },
  {
   "cell_type": "code",
   "execution_count": 2,
   "metadata": {
    "scrolled": true
   },
   "outputs": [
    {
     "name": "stdout",
     "output_type": "stream",
     "text": [
      "=== net(x) ===\n",
      "[[ 0.16526183 -0.14005636]]\n",
      "<NDArray 1x2 @cpu(0)>\n"
     ]
    }
   ],
   "source": [
    "net.hybridize()\n",
    "print('=== net(x) ==={}'.format(net(x)))"
   ]
  },
  {
   "cell_type": "markdown",
   "metadata": {},
   "source": [
    "## Performance\n",
    "\n",
    "To get a sense of the speedup from hybridizing, \n",
    "we can compare the performance before and after hybridizing \n",
    "by measuring in either case the time it takes to make 1000 forward passes through the network."
   ]
  },
  {
   "cell_type": "code",
   "execution_count": 3,
   "metadata": {},
   "outputs": [
    {
     "name": "stdout",
     "output_type": "stream",
     "text": [
      "Before hybridizing: 0.4646 sec\n",
      "After hybridizing: 0.2424 sec\n"
     ]
    }
   ],
   "source": [
    "from time import time\n",
    "def bench(net, x):\n",
    "    mx.nd.waitall()\n",
    "    start = time()\n",
    "    for i in range(1000):\n",
    "        y = net(x)\n",
    "    mx.nd.waitall()\n",
    "    return time() - start\n",
    "        \n",
    "net = get_net()\n",
    "print('Before hybridizing: %.4f sec'%(bench(net, x)))\n",
    "net.hybridize()\n",
    "print('After hybridizing: %.4f sec'%(bench(net, x)))"
   ]
  },
  {
   "cell_type": "markdown",
   "metadata": {},
   "source": [
    "As you can see, hybridizing gives a significant performance boost, almost 2x the speed.\n",
    "\n",
    "## Get the symbolic program\n",
    "\n",
    "Previously, we feed `net` with `NDArray` data `x`, and then `net(x)` returned the forward results. Now if we feed it with a `Symbol` placeholder, then the corresponding symbolic program will be returned. "
   ]
  },
  {
   "cell_type": "code",
   "execution_count": 4,
   "metadata": {
    "scrolled": true
   },
   "outputs": [
    {
     "name": "stdout",
     "output_type": "stream",
     "text": [
      "=== input data holder ===\n",
      "<Symbol data>\n",
      "\n",
      "=== the symbolic program of net===\n",
      "<Symbol hybridsequential1_dense2_fwd>\n",
      "\n",
      "=== the according json definition===\n",
      "{\n",
      "  \"nodes\": [\n",
      "    {\n",
      "      \"op\": \"null\", \n",
      "      \"name\": \"data\", \n",
      "      \"inputs\": []\n",
      "    }, \n",
      "    {\n",
      "      \"op\": \"null\", \n",
      "      \"name\": \"hybridsequential1_dense0_weight\", \n",
      "      \"attr\": {\n",
      "        \"__dtype__\": \"0\", \n",
      "        \"__lr_mult__\": \"1.0\", \n",
      "        \"__shape__\": \"(256, 0)\", \n",
      "        \"__wd_mult__\": \"1.0\"\n",
      "      }, \n",
      "      \"inputs\": []\n",
      "    }, \n",
      "    {\n",
      "      \"op\": \"null\", \n",
      "      \"name\": \"hybridsequential1_dense0_bias\", \n",
      "      \"attr\": {\n",
      "        \"__dtype__\": \"0\", \n",
      "        \"__init__\": \"zeros\", \n",
      "        \"__lr_mult__\": \"1.0\", \n",
      "        \"__shape__\": \"(256,)\", \n",
      "        \"__wd_mult__\": \"1.0\"\n",
      "      }, \n",
      "      \"inputs\": []\n",
      "    }, \n",
      "    {\n",
      "      \"op\": \"FullyConnected\", \n",
      "      \"name\": \"hybridsequential1_dense0_fwd\", \n",
      "      \"attr\": {\"num_hidden\": \"256\"}, \n",
      "      \"inputs\": [[0, 0, 0], [1, 0, 0], [2, 0, 0]]\n",
      "    }, \n",
      "    {\n",
      "      \"op\": \"Activation\", \n",
      "      \"name\": \"hybridsequential1_dense0_relu_fwd\", \n",
      "      \"attr\": {\"act_type\": \"relu\"}, \n",
      "      \"inputs\": [[3, 0, 0]]\n",
      "    }, \n",
      "    {\n",
      "      \"op\": \"null\", \n",
      "      \"name\": \"hybridsequential1_dense1_weight\", \n",
      "      \"attr\": {\n",
      "        \"__dtype__\": \"0\", \n",
      "        \"__lr_mult__\": \"1.0\", \n",
      "        \"__shape__\": \"(128, 0)\", \n",
      "        \"__wd_mult__\": \"1.0\"\n",
      "      }, \n",
      "      \"inputs\": []\n",
      "    }, \n",
      "    {\n",
      "      \"op\": \"null\", \n",
      "      \"name\": \"hybridsequential1_dense1_bias\", \n",
      "      \"attr\": {\n",
      "        \"__dtype__\": \"0\", \n",
      "        \"__init__\": \"zeros\", \n",
      "        \"__lr_mult__\": \"1.0\", \n",
      "        \"__shape__\": \"(128,)\", \n",
      "        \"__wd_mult__\": \"1.0\"\n",
      "      }, \n",
      "      \"inputs\": []\n",
      "    }, \n",
      "    {\n",
      "      \"op\": \"FullyConnected\", \n",
      "      \"name\": \"hybridsequential1_dense1_fwd\", \n",
      "      \"attr\": {\"num_hidden\": \"128\"}, \n",
      "      \"inputs\": [[4, 0, 0], [5, 0, 0], [6, 0, 0]]\n",
      "    }, \n",
      "    {\n",
      "      \"op\": \"Activation\", \n",
      "      \"name\": \"hybridsequential1_dense1_relu_fwd\", \n",
      "      \"attr\": {\"act_type\": \"relu\"}, \n",
      "      \"inputs\": [[7, 0, 0]]\n",
      "    }, \n",
      "    {\n",
      "      \"op\": \"null\", \n",
      "      \"name\": \"hybridsequential1_dense2_weight\", \n",
      "      \"attr\": {\n",
      "        \"__dtype__\": \"0\", \n",
      "        \"__lr_mult__\": \"1.0\", \n",
      "        \"__shape__\": \"(2, 0)\", \n",
      "        \"__wd_mult__\": \"1.0\"\n",
      "      }, \n",
      "      \"inputs\": []\n",
      "    }, \n",
      "    {\n",
      "      \"op\": \"null\", \n",
      "      \"name\": \"hybridsequential1_dense2_bias\", \n",
      "      \"attr\": {\n",
      "        \"__dtype__\": \"0\", \n",
      "        \"__init__\": \"zeros\", \n",
      "        \"__lr_mult__\": \"1.0\", \n",
      "        \"__shape__\": \"(2,)\", \n",
      "        \"__wd_mult__\": \"1.0\"\n",
      "      }, \n",
      "      \"inputs\": []\n",
      "    }, \n",
      "    {\n",
      "      \"op\": \"FullyConnected\", \n",
      "      \"name\": \"hybridsequential1_dense2_fwd\", \n",
      "      \"attr\": {\"num_hidden\": \"2\"}, \n",
      "      \"inputs\": [[8, 0, 0], [9, 0, 0], [10, 0, 0]]\n",
      "    }\n",
      "  ], \n",
      "  \"arg_nodes\": [0, 1, 2, 5, 6, 9, 10], \n",
      "  \"node_row_ptr\": [\n",
      "    0, \n",
      "    1, \n",
      "    2, \n",
      "    3, \n",
      "    4, \n",
      "    5, \n",
      "    6, \n",
      "    7, \n",
      "    8, \n",
      "    9, \n",
      "    10, \n",
      "    11, \n",
      "    12\n",
      "  ], \n",
      "  \"heads\": [[11, 0, 0]], \n",
      "  \"attrs\": {\"mxnet_version\": [\"int\", 1001]}\n",
      "}\n"
     ]
    }
   ],
   "source": [
    "from mxnet import sym\n",
    "x = sym.var('data')\n",
    "print('=== input data holder ===')\n",
    "print(x)\n",
    "\n",
    "y = net(x)\n",
    "print('\\n=== the symbolic program of net===')\n",
    "print(y)\n",
    "\n",
    "y_json = y.tojson()\n",
    "print('\\n=== the according json definition===')\n",
    "print(y_json)"
   ]
  },
  {
   "cell_type": "markdown",
   "metadata": {},
   "source": [
    "Now we can save both the program and parameters onto disk, so that it can be loaded later not only in Python, but in all other supported languages, such as C++, R, and Scala, as well."
   ]
  },
  {
   "cell_type": "code",
   "execution_count": 5,
   "metadata": {
    "collapsed": true
   },
   "outputs": [],
   "source": [
    "y.save('model.json')\n",
    "net.save_params('model.params')"
   ]
  },
  {
   "cell_type": "markdown",
   "metadata": {},
   "source": [
    "## HybridBlock\n",
    "\n",
    "Now let's dive deeper into how `hybridize` works. Remember that gluon networks are composed of Blocks each of which subclass `gluon.Block`. With normal Blocks, we just need to define a forward function that takes an input `x` and computes the result of the forward pass through the network. MXNet can figure out the backward pass for us automatically with autograd.\n",
    "\n",
    "To define a `HybridBlock`, we instead have a `hybrid_forward` function:"
   ]
  },
  {
   "cell_type": "code",
   "execution_count": 6,
   "metadata": {
    "collapsed": true
   },
   "outputs": [],
   "source": [
    "from mxnet import gluon\n",
    "\n",
    "class Net(gluon.HybridBlock):\n",
    "    def __init__(self, **kwargs):\n",
    "        super(Net, self).__init__(**kwargs)\n",
    "        with self.name_scope():\n",
    "            self.fc1 = nn.Dense(256)\n",
    "            self.fc2 = nn.Dense(128)\n",
    "            self.fc3 = nn.Dense(2)\n",
    "\n",
    "    def hybrid_forward(self, F, x):\n",
    "        # F is a function space that depends on the type of x\n",
    "        # If x's type is NDArray, then F will be mxnet.nd\n",
    "        # If x's type is Symbol, then F will be mxnet.sym\n",
    "        print('type(x): {}, F: {}'.format(\n",
    "                type(x).__name__, F.__name__))\n",
    "        x = F.relu(self.fc1(x))\n",
    "        x = F.relu(self.fc2(x))\n",
    "        return self.fc3(x)"
   ]
  },
  {
   "cell_type": "markdown",
   "metadata": {},
   "source": [
    "The `hybrid_forward` function takes an additional input, `F`, which stands for a backend. \n",
    "This exploits one awesome feature of MXNet. \n",
    "MXNet has both a symbolic API (``mxnet.symbol``) and an imperative API (``mxnet.ndarray``).\n",
    "In this book, so far, we've only focused on the latter.\n",
    "Owing to fortuitous historical reasons, the imperative and symbolic interfaces both support roughly the same API.\n",
    "They have many of same functions (currently about 90% overlap) and when they do, they support the same arguments in the same order.\n",
    "When we define ``hybrid_forward``, we pass in `F`. \n",
    "When running in imperative mode, ``hybrid_forward`` is called with `F` as `mxnet.ndarray` and `x` as some ndarray input.\n",
    "When we compile with ``hybridize``, `F` will be `mxnet.symbol` and `x` will be some placeholder or intermediate symbolic value. Once we call hybridize, the net is compiled, so we'll never need to call ``hybrid_forward`` again.\n",
    "\n",
    "Let's demonstrate how this all works by feeding some data through the network twice. We'll do this for both a regular network and a hybridized net. You'll see that in the first case, ``hybrid_forward`` is actually called twice."
   ]
  },
  {
   "cell_type": "code",
   "execution_count": 7,
   "metadata": {},
   "outputs": [
    {
     "name": "stdout",
     "output_type": "stream",
     "text": [
      "=== 1st forward ===\n",
      "type(x): NDArray, F: mxnet.ndarray\n",
      "=== 2nd forward ===\n",
      "type(x): NDArray, F: mxnet.ndarray\n"
     ]
    }
   ],
   "source": [
    "net = Net()\n",
    "net.collect_params().initialize()\n",
    "x = nd.random_normal(shape=(1, 512))\n",
    "print('=== 1st forward ===')\n",
    "y = net(x)\n",
    "print('=== 2nd forward ===')\n",
    "y = net(x)"
   ]
  },
  {
   "cell_type": "markdown",
   "metadata": {},
   "source": [
    "Now run it again after hybridizing. "
   ]
  },
  {
   "cell_type": "code",
   "execution_count": 8,
   "metadata": {},
   "outputs": [
    {
     "name": "stdout",
     "output_type": "stream",
     "text": [
      "=== 1st forward ===\n",
      "type(x): Symbol, F: mxnet.symbol\n",
      "=== 2nd forward ===\n"
     ]
    }
   ],
   "source": [
    "net.hybridize()\n",
    "print('=== 1st forward ===')\n",
    "y = net(x)\n",
    "print('=== 2nd forward ===')\n",
    "y = net(x)"
   ]
  },
  {
   "cell_type": "markdown",
   "metadata": {},
   "source": [
    "It differs from the previous execution in two aspects:\n",
    "\n",
    "1. the input data type now is `Symbol` even when we fed an `NDArray` into `net`, because `gluon` implicitly constructed a symbolic data placeholder.\n",
    "2. `hybrid_forward` is called once at the first time we run `net(x)`. It is because `gluon` will construct the symbolic program on the first forward, and then keep it for reuse later.\n",
    "\n",
    "One main reason that the network is faster after hybridizing is because we don't need to repeatedly invoke the Python forward function, while keeping all computations within the highly efficient C++ backend engine.\n",
    "\n",
    "But the potential drawback is the loss of flexibility to write the forward function. In other ways, inserting `print` for debugging or control logic such as `if` and `for` into the forward function is not possible now.\n",
    "\n",
    "## Conclusion\n",
    "\n",
    "Through `HybridSequental` and `HybridBlock`, we can convert an imperative program into a symbolic program by calling `hybridize`. "
   ]
  },
  {
   "cell_type": "markdown",
   "metadata": {},
   "source": [
    "## Next\n",
    "[Training MXNet models with multiple GPUs](../chapter07_distributed-learning/multiple-gpus-scratch.ipynb)"
   ]
  },
  {
   "cell_type": "markdown",
   "metadata": {},
   "source": [
    "For whinges or inquiries, [open an issue on  GitHub.](https://github.com/zackchase/mxnet-the-straight-dope)"
   ]
  }
 ],
 "metadata": {
  "anaconda-cloud": {},
  "display_name": "",
  "kernelspec": {
   "display_name": "Python 3",
   "language": "python",
   "name": "python3"
  },
  "language_info": {
   "codemirror_mode": {
    "name": "ipython",
    "version": 3
   },
   "file_extension": ".py",
   "mimetype": "text/x-python",
   "name": "python",
   "nbconvert_exporter": "python",
   "pygments_lexer": "ipython3",
   "version": "3.4.3"
  },
  "name": ""
 },
 "nbformat": 4,
 "nbformat_minor": 2
}
